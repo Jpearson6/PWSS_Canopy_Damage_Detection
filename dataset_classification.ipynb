{
 "cells": [
  {
   "cell_type": "code",
   "execution_count": 18,
   "id": "4d92d2d8",
   "metadata": {},
   "outputs": [],
   "source": [
    "import numpy as np\n",
    "import os\n",
    "import glob\n",
    "import cv2\n",
    "import helper_functions as hp\n",
    "from sklearn.preprocessing import OneHotEncoder\n",
    "from sklearn.utils import shuffle"
   ]
  },
  {
   "cell_type": "code",
   "execution_count": 6,
   "id": "f348197e",
   "metadata": {},
   "outputs": [
    {
     "name": "stdout",
     "output_type": "stream",
     "text": [
      "reading in 30444 images\n",
      "percent complete: 100%\r"
     ]
    }
   ],
   "source": [
    "# Load in naip data\n",
    "naip_images_tif, naip_labels_tif = hp.dataset_reader('naip_2018_chips_90m_3class_classified_tiles')"
   ]
  },
  {
   "cell_type": "code",
   "execution_count": 5,
   "id": "29dfd258",
   "metadata": {},
   "outputs": [
    {
     "name": "stdout",
     "output_type": "stream",
     "text": [
      "reading in 30466 images\n",
      "percent complete: 100%\r"
     ]
    }
   ],
   "source": [
    "# Load in planetscope data\n",
    "planetscope_images_tif, planetscope_labels_tif = hp.dataset_reader('planetscope_chips_90m_3class_classified_tiles')"
   ]
  },
  {
   "cell_type": "code",
   "execution_count": 9,
   "id": "966155f5",
   "metadata": {},
   "outputs": [
    {
     "data": {
      "text/plain": [
       "(array([1, 2, 3], dtype=uint16), array([ 6236,   308, 23922], dtype=int64))"
      ]
     },
     "execution_count": 9,
     "metadata": {},
     "output_type": "execute_result"
    }
   ],
   "source": [
    "#np.unique(naip_labels_tif, axis = 0, return_counts=True)\n",
    "#np.unique(planetscope_labels_tif, axis = 0, return_counts=True)\n",
    "\n",
    "# Naip needs some data processing for the labels"
   ]
  },
  {
   "cell_type": "code",
   "execution_count": 19,
   "id": "905045a3",
   "metadata": {},
   "outputs": [
    {
     "name": "stdout",
     "output_type": "stream",
     "text": [
      "[[1. 0. 0.]\n",
      " [1. 0. 0.]\n",
      " [1. 0. 0.]\n",
      " ...\n",
      " [0. 0. 1.]\n",
      " [0. 0. 1.]\n",
      " [0. 0. 1.]]\n",
      "(30466, 3)\n"
     ]
    }
   ],
   "source": [
    "# Encode planetscope data\n",
    "enc = OneHotEncoder(handle_unknown='ignore')\n",
    "enc.fit(planetscope_labels_tif.reshape(-1, 1))\n",
    "new_labels = enc.transform(planetscope_labels_tif.reshape(-1, 1)).toarray()\n",
    "\n",
    "print(new_labels)\n",
    "print(new_labels.shape)"
   ]
  },
  {
   "cell_type": "code",
   "execution_count": null,
   "id": "3ff85dea",
   "metadata": {},
   "outputs": [],
   "source": [
    "images_shuffle, labels_shuffle = shuffle(planetscope_image_tif, planetscope_labels_tif, random_state = 42)"
   ]
  }
 ],
 "metadata": {
  "kernelspec": {
   "display_name": "Python 3.9.13 ('tflabs')",
   "language": "python",
   "name": "python3"
  },
  "language_info": {
   "codemirror_mode": {
    "name": "ipython",
    "version": 3
   },
   "file_extension": ".py",
   "mimetype": "text/x-python",
   "name": "python",
   "nbconvert_exporter": "python",
   "pygments_lexer": "ipython3",
   "version": "3.9.13"
  },
  "vscode": {
   "interpreter": {
    "hash": "35eea16d2f9be43d0e546de69b07c4ef74c52368fd7abf416bab4009dc03b5b7"
   }
  }
 },
 "nbformat": 4,
 "nbformat_minor": 5
}
